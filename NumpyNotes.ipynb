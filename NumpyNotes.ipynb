{
  "nbformat": 4,
  "nbformat_minor": 0,
  "metadata": {
    "colab": {
      "name": "NumpyNotes.ipynb",
      "provenance": [],
      "collapsed_sections": [],
      "toc_visible": true,
      "authorship_tag": "ABX9TyNWx7SxILD8/7gfBVuFZB2f",
      "include_colab_link": true
    },
    "kernelspec": {
      "name": "python3",
      "display_name": "Python 3"
    },
    "language_info": {
      "name": "python"
    }
  },
  "cells": [
    {
      "cell_type": "markdown",
      "metadata": {
        "id": "view-in-github",
        "colab_type": "text"
      },
      "source": [
        "<a href=\"https://colab.research.google.com/github/furkaanasik/Numpy-temel/blob/main/NumpyNotes.ipynb\" target=\"_parent\"><img src=\"https://colab.research.google.com/assets/colab-badge.svg\" alt=\"Open In Colab\"/></a>"
      ]
    },
    {
      "cell_type": "markdown",
      "source": [
        "## **Numpy**"
      ],
      "metadata": {
        "id": "HbQGikv4OvKt"
      }
    },
    {
      "cell_type": "markdown",
      "source": [
        "### **Numpy nedir?**\n",
        "Numpy dizilerle çalışmak için kullanılan python kütüphanesidir. Ayrıca **Num**erical **Py**thon kısaltılmasıdır."
      ],
      "metadata": {
        "id": "jkYRzVHA43MI"
      }
    },
    {
      "cell_type": "markdown",
      "source": [
        "### **Neden Numpy?**\n",
        "Listeler her bir veri için bir veri tipi tuttuğundan çok yavaştır. Buna kıyasla Numpy dizileri listelerden çok daha hızlıdır."
      ],
      "metadata": {
        "id": "kiGxqKpA41hV"
      }
    },
    {
      "cell_type": "markdown",
      "source": [
        "### **Nasıl kurulur?**\n",
        "```\n",
        "pip install numpy\n",
        "```\n"
      ],
      "metadata": {
        "id": "tFMuinHA4zD6"
      }
    },
    {
      "cell_type": "markdown",
      "source": [
        "### **Projeye entegre edilmesi.**"
      ],
      "metadata": {
        "id": "fCs4qmqvRXkM"
      }
    },
    {
      "cell_type": "code",
      "execution_count": null,
      "metadata": {
        "id": "wTBRyF6ROFrq"
      },
      "outputs": [],
      "source": [
        "# Artık np adı ile çağırılabilir.\n",
        "import numpy as np"
      ]
    },
    {
      "cell_type": "markdown",
      "source": [
        "### **Numpy sürümünü kontrol etmek.**"
      ],
      "metadata": {
        "id": "bIbHnuG9RpAC"
      }
    },
    {
      "cell_type": "code",
      "source": [
        "print(np.__version__)"
      ],
      "metadata": {
        "colab": {
          "base_uri": "https://localhost:8080/"
        },
        "id": "hu65-mo0Ru4O",
        "outputId": "0aa575ad-9fe9-4379-cdbe-4bc9a28212fe"
      },
      "execution_count": null,
      "outputs": [
        {
          "output_type": "stream",
          "name": "stdout",
          "text": [
            "1.21.6\n"
          ]
        }
      ]
    },
    {
      "cell_type": "markdown",
      "source": [
        "## **Numpy dizisi oluşturma**\n",
        "\n",
        "Numpy dizi nesnesine ndarray denir. Dizi oluşturmak için np.array() fonksyionun kullanılabilir.\n",
        "\n",
        "Numpy ile dizi yaratırken np.array fonksiyonuna parametre olarak gönderilecek parametre tuple içinde ya da liste içinde gönderilmesi gerkiyor."
      ],
      "metadata": {
        "id": "Ng5I-RqOSBHR"
      }
    },
    {
      "cell_type": "code",
      "source": [
        "# np.array() fonksiyonu ile array tanımlanması.\n",
        "arr = np.array([1, 2, 3])\n",
        "\n",
        "# arrayi ekrana basmak.\n",
        "print(arr)\n",
        "\n",
        "# arrayin tipini ekrana basmak.\n",
        "print(type(arr))"
      ],
      "metadata": {
        "colab": {
          "base_uri": "https://localhost:8080/"
        },
        "id": "DBiI4EQVR7Yk",
        "outputId": "c0c4a28e-f0e7-44d2-ce38-c05968165e6a"
      },
      "execution_count": null,
      "outputs": [
        {
          "output_type": "stream",
          "name": "stdout",
          "text": [
            "[1 2 3]\n",
            "<class 'numpy.ndarray'>\n"
          ]
        }
      ]
    },
    {
      "cell_type": "markdown",
      "source": [
        "### **1 boyutlu diziler**"
      ],
      "metadata": {
        "id": "oL2tFxZVS128"
      }
    },
    {
      "cell_type": "code",
      "source": [
        "arr = np.array([1, 2, 3])\n",
        "\n",
        "print(arr)"
      ],
      "metadata": {
        "colab": {
          "base_uri": "https://localhost:8080/"
        },
        "id": "98nPs3seSfH7",
        "outputId": "856189b4-8cec-4fa7-f7dc-55c6d7095621"
      },
      "execution_count": null,
      "outputs": [
        {
          "output_type": "stream",
          "name": "stdout",
          "text": [
            "[1 2 3]\n"
          ]
        }
      ]
    },
    {
      "cell_type": "markdown",
      "source": [
        "### **2 boyutlu diziler**\n",
        "\n"
      ],
      "metadata": {
        "id": "cg2-PsMETJe_"
      }
    },
    {
      "cell_type": "code",
      "source": [
        "arr = np.array([[1, 2, 3], [4, 5, 6]])\n",
        "\n",
        "print(arr)"
      ],
      "metadata": {
        "colab": {
          "base_uri": "https://localhost:8080/"
        },
        "id": "HD-LIaYTTUBs",
        "outputId": "6915dc3e-b8a7-4d00-a1d6-0d549481b478"
      },
      "execution_count": null,
      "outputs": [
        {
          "output_type": "stream",
          "name": "stdout",
          "text": [
            "[[1 2 3]\n",
            " [4 5 6]]\n"
          ]
        }
      ]
    },
    {
      "cell_type": "markdown",
      "source": [
        "### **3 boyutlu diziler**"
      ],
      "metadata": {
        "id": "KcMhtNQlUq_3"
      }
    },
    {
      "cell_type": "code",
      "source": [
        "arr = np.array([[1, 2, 3], [4, 5, 6], [7, 8, 9]])\n",
        "\n",
        "print(arr)"
      ],
      "metadata": {
        "colab": {
          "base_uri": "https://localhost:8080/"
        },
        "id": "ApQhD0hKU9Fo",
        "outputId": "01372978-1435-46cd-a060-5ca5810d895c"
      },
      "execution_count": null,
      "outputs": [
        {
          "output_type": "stream",
          "name": "stdout",
          "text": [
            "[[1 2 3]\n",
            " [4 5 6]\n",
            " [7 8 9]]\n"
          ]
        }
      ]
    },
    {
      "cell_type": "markdown",
      "source": [
        "### **Bir dizinin boyutunu nasıl kontrol edebiliriz?**\n",
        "\n",
        "Bir dizinin boyutunu konrol etmek için 'ndim' kulllanılır."
      ],
      "metadata": {
        "id": "zyE0urfkVN_w"
      }
    },
    {
      "cell_type": "code",
      "source": [
        "# 0 boyutlu dizi.\n",
        "arr = np.array(1)\n",
        "print(arr.ndim)\n",
        "\n",
        "# 1 boyutlu dizi.\n",
        "arr = np.array([1,2,3])\n",
        "print(arr.ndim)\n",
        "\n",
        "# 2 boyutlu dizi.\n",
        "arr = np.array([[1, 2, 3], [4, 5, 6]])\n",
        "print(arr.ndim)"
      ],
      "metadata": {
        "colab": {
          "base_uri": "https://localhost:8080/"
        },
        "id": "zZhvhBW_VK_g",
        "outputId": "34435708-a52b-4633-dbdc-d8ee44b18780"
      },
      "execution_count": null,
      "outputs": [
        {
          "output_type": "stream",
          "name": "stdout",
          "text": [
            "0\n",
            "1\n",
            "2\n"
          ]
        }
      ]
    },
    {
      "cell_type": "markdown",
      "source": [
        "### **Bir dizinin elemanlarına nasıl erişirim?**\n",
        "\n",
        "Listelerdeki sistem gibi kullanılabilir."
      ],
      "metadata": {
        "id": "rdQFPsT5WDWM"
      }
    },
    {
      "cell_type": "markdown",
      "source": [
        "1 boyutlu dizinin elemanlarına erişmek;\n",
        "\n",
        "\n"
      ],
      "metadata": {
        "id": "T1ppttubXSeu"
      }
    },
    {
      "cell_type": "code",
      "source": [
        "# örnek listenin tanımlanması\n",
        "sample_list = [10, 1, 2, 3]\n",
        "# örnek listesinin ilk elemanını ekrana bastırmak\n",
        "print(sample_list[0])\n",
        "\n",
        "\n",
        "# np.array() fonksiyonu ile dizi oluşturma\n",
        "arr = np.array([4,1,2])\n",
        "# dizinin ilk elemanını ekrana bastırmak\n",
        "print(arr[0])"
      ],
      "metadata": {
        "colab": {
          "base_uri": "https://localhost:8080/"
        },
        "id": "TUETtI9aVl6f",
        "outputId": "09d56663-41c6-4c7a-ec95-c82ecf5e57e4"
      },
      "execution_count": null,
      "outputs": [
        {
          "output_type": "stream",
          "name": "stdout",
          "text": [
            "10\n",
            "4\n"
          ]
        }
      ]
    },
    {
      "cell_type": "markdown",
      "source": [
        "2 boyutlu dizinin elemanlarına erişmek;"
      ],
      "metadata": {
        "id": "jrDxDlLTXbiQ"
      }
    },
    {
      "cell_type": "code",
      "source": [
        "# iki boyutlu bir dizi tanımlanması\n",
        "arr = np.array([[10, 9, 8], [7, 6, 5]])\n",
        "\n",
        "# ikinci boyuttaki ilk eleman\n",
        "print(arr[1, 0])"
      ],
      "metadata": {
        "colab": {
          "base_uri": "https://localhost:8080/"
        },
        "id": "Wrjt8KGpXgw-",
        "outputId": "c768e7fb-db7d-4059-e427-15160fa92219"
      },
      "execution_count": null,
      "outputs": [
        {
          "output_type": "stream",
          "name": "stdout",
          "text": [
            "7\n"
          ]
        }
      ]
    },
    {
      "cell_type": "markdown",
      "source": [
        "### **Dizi dilimleme (Slicing)**"
      ],
      "metadata": {
        "id": "zebOoZTpX7DS"
      }
    },
    {
      "cell_type": "markdown",
      "source": [
        "Tek boyutlu dizileri dilimlemek;"
      ],
      "metadata": {
        "id": "qCa3P19I53J3"
      }
    },
    {
      "cell_type": "code",
      "source": [
        "# Bir boyutlu bir dizi tanımlanması.\n",
        "arr = np.array([1, 2, 3, 4, 5])\n",
        "\n",
        "# Diziyi başlangıçtan sona kadar şekliyle istediğimiz parçayı dilimledik.\n",
        "print(arr[1:3])\n",
        "\n",
        "# Belirlenen başlangıçtan diziyi sona kadar dilimlemek.\n",
        "print(arr[2:])\n",
        "\n",
        "# Baştan diziyi belirlenen sona kadar bölmek.\n",
        "print(arr[:4])"
      ],
      "metadata": {
        "id": "knGZo9F8X5wk",
        "colab": {
          "base_uri": "https://localhost:8080/"
        },
        "outputId": "45235b84-2a4c-4ea6-eeb9-9533bd6e1e65"
      },
      "execution_count": null,
      "outputs": [
        {
          "output_type": "stream",
          "name": "stdout",
          "text": [
            "[2 3]\n",
            "[3 4 5]\n",
            "[1 2 3 4]\n"
          ]
        }
      ]
    },
    {
      "cell_type": "markdown",
      "source": [
        "Çok boyutlu dizileri dilimlemek;"
      ],
      "metadata": {
        "id": "pesp-vPZlasx"
      }
    },
    {
      "cell_type": "code",
      "source": [
        "# Boyutlu dizinin tanımlanması.\n",
        "arr = np.array([[0, 1, 2, 3], [10, 20, 30, 40]])\n",
        "\n",
        "print(arr[1, [2, 3]])"
      ],
      "metadata": {
        "colab": {
          "base_uri": "https://localhost:8080/"
        },
        "id": "CEXGfcVOlsEX",
        "outputId": "0d49db97-dd7f-455a-c26a-1b095901ceb8"
      },
      "execution_count": null,
      "outputs": [
        {
          "output_type": "stream",
          "name": "stdout",
          "text": [
            "[30 40]\n"
          ]
        }
      ]
    },
    {
      "cell_type": "markdown",
      "source": [
        "### **Dizi kopyalama (Copy)**\n",
        "\n",
        "Kopyalama işlemi bir dizideki elemanın değeri değiştirildiğinde asıl dizide değişmemesini sağlar."
      ],
      "metadata": {
        "id": "YwN8c9-mmu0b"
      }
    },
    {
      "cell_type": "code",
      "source": [
        "# Dizinin tanımlanması.\n",
        "arr = np.array([10, 20, 30, 40])\n",
        "\n",
        "# Kopyalanma işlemi.\n",
        "clone = arr.copy()\n",
        "\n",
        "print(arr)\n",
        "print(clone)"
      ],
      "metadata": {
        "colab": {
          "base_uri": "https://localhost:8080/"
        },
        "id": "P40DDXXRmx6t",
        "outputId": "a5edb2c7-8186-439b-8b1b-cb88fd6cc1b2"
      },
      "execution_count": null,
      "outputs": [
        {
          "output_type": "stream",
          "name": "stdout",
          "text": [
            "[10 20 30 40]\n",
            "[10 20 30 40]\n"
          ]
        }
      ]
    },
    {
      "cell_type": "markdown",
      "source": [
        "Diziyi bir değişkene atadığımızda asıl dizimiz değişiyor örnek;"
      ],
      "metadata": {
        "id": "3V4VUXYqoSaQ"
      }
    },
    {
      "cell_type": "code",
      "source": [
        "# Dizinin tanımlanması\n",
        "arr = np.array([10, 20,30, 40])\n",
        "\n",
        "# Dizi kopyalanmaz referans olarak atanır.\n",
        "second_arr = arr\n",
        "\n",
        "# Atanan değişkenin değerini değiştiririz.\n",
        "second_arr[0] = 50\n",
        "\n",
        "# ve asıl dizimiz olan arr dizisinde bu değişiklik görünür\n",
        "print(arr)"
      ],
      "metadata": {
        "colab": {
          "base_uri": "https://localhost:8080/"
        },
        "id": "pbQX5VcznfrO",
        "outputId": "0a1242e8-1fec-4d9a-a486-fb53f5c34e5e"
      },
      "execution_count": null,
      "outputs": [
        {
          "output_type": "stream",
          "name": "stdout",
          "text": [
            "[50 20 30 40]\n"
          ]
        }
      ]
    },
    {
      "cell_type": "markdown",
      "source": [
        "### **Dizi şeklini alma (Shape)**\n",
        "\n",
        "Bir dizinin şeklini almak için shape kullanılır."
      ],
      "metadata": {
        "id": "9w20NKT1otGM"
      }
    },
    {
      "cell_type": "code",
      "source": [
        "# Dizinin tanımlanması\n",
        "arr = np.array([[10, 20, 30, 40], [50, 60, 70, 80]])\n",
        "\n",
        "print(arr.shape) #(2,4)\n",
        "\n"
      ],
      "metadata": {
        "colab": {
          "base_uri": "https://localhost:8080/"
        },
        "id": "L3t8ioDk64Qs",
        "outputId": "47f67e68-6a10-4834-b6a1-df4a3e13ed93"
      },
      "execution_count": null,
      "outputs": [
        {
          "output_type": "stream",
          "name": "stdout",
          "text": [
            "(2, 4)\n"
          ]
        }
      ]
    },
    {
      "cell_type": "markdown",
      "source": [
        "*Bu dizinin boyutunun 2 olduğu ve 4 öğeye sahip olduğu görülmektedir.*"
      ],
      "metadata": {
        "id": "ndEcLYLO7twC"
      }
    },
    {
      "cell_type": "markdown",
      "source": [
        "### **Dizi yeniden şekillendirme (Reshaping)**\n",
        "\n",
        "Dizimizi yeniden şekillendirmek istersek reshape methodu kullanılır."
      ],
      "metadata": {
        "id": "Cr8jJmra8QeP"
      }
    },
    {
      "cell_type": "code",
      "source": [
        "# Bir boyutlu dizi tanımlanması\n",
        "arr = np.array([10, 20, 30, 40, 50, 60])\n",
        "\n",
        "# Reshape kullanılarak elde edilen yeni dizinin tanımlanması\n",
        "arr2 = arr.reshape(2,3)\n",
        "\n",
        "print(arr2)"
      ],
      "metadata": {
        "colab": {
          "base_uri": "https://localhost:8080/"
        },
        "id": "zby9j2av7I_r",
        "outputId": "502d2f50-00ad-41cc-bfec-f045ee885403"
      },
      "execution_count": null,
      "outputs": [
        {
          "output_type": "stream",
          "name": "stdout",
          "text": [
            "[[10 20 30]\n",
            " [40 50 60]]\n"
          ]
        }
      ]
    },
    {
      "cell_type": "code",
      "source": [
        "arr2 = arr.reshape(3,2)\n",
        "\n",
        "print(arr2)"
      ],
      "metadata": {
        "colab": {
          "base_uri": "https://localhost:8080/"
        },
        "id": "K8TMhRzg8nfT",
        "outputId": "1a6d6a5c-700c-4901-9e86-5aa15bd94ff7"
      },
      "execution_count": null,
      "outputs": [
        {
          "output_type": "stream",
          "name": "stdout",
          "text": [
            "[[10 20]\n",
            " [30 40]\n",
            " [50 60]]\n"
          ]
        }
      ]
    },
    {
      "cell_type": "markdown",
      "source": [
        "### **Bir numpy dizisini ekrana basmak**\n",
        "\n",
        "Bir numpy dizisini ekrana basmak istersek döngüleri kullanabilir."
      ],
      "metadata": {
        "id": "iLHVt31H9MGa"
      }
    },
    {
      "cell_type": "markdown",
      "source": [
        "Bir boyutlu dizinin ekrana basılması;"
      ],
      "metadata": {
        "id": "crnZyurC-a6x"
      }
    },
    {
      "cell_type": "code",
      "source": [
        "# Dizimizin tanımlanması\n",
        "arr = np.array([10, 20, 30, 40, 50])\n",
        "\n",
        "for i in arr:\n",
        "  print(i)"
      ],
      "metadata": {
        "colab": {
          "base_uri": "https://localhost:8080/"
        },
        "id": "5nah7xl99eBC",
        "outputId": "4af94bda-fb24-40db-acac-cb4ffb23415f"
      },
      "execution_count": null,
      "outputs": [
        {
          "output_type": "stream",
          "name": "stdout",
          "text": [
            "10\n",
            "20\n",
            "30\n",
            "40\n",
            "50\n"
          ]
        }
      ]
    },
    {
      "cell_type": "markdown",
      "source": [
        "Çok boyutlu dizinin ekrana basılması;"
      ],
      "metadata": {
        "id": "TjMd7V2E-kja"
      }
    },
    {
      "cell_type": "code",
      "source": [
        "# Dizimizin tanımlanması\n",
        "arr = np.array([[10, 20], [30, 40], [50, 60]])\n",
        "\n",
        "for i in arr:\n",
        "  print(i)"
      ],
      "metadata": {
        "colab": {
          "base_uri": "https://localhost:8080/"
        },
        "id": "zJ0GdDLi-Z4n",
        "outputId": "fcf12b67-9f40-47a5-b33e-e949acdf3494"
      },
      "execution_count": null,
      "outputs": [
        {
          "output_type": "stream",
          "name": "stdout",
          "text": [
            "[10 20]\n",
            "[30 40]\n",
            "[50 60]\n"
          ]
        }
      ]
    },
    {
      "cell_type": "markdown",
      "source": [
        "Çok boyutlu dizinin her elemanını ayrı bir şekilde ekrana basmak için;"
      ],
      "metadata": {
        "id": "v5lSn8p6-rpN"
      }
    },
    {
      "cell_type": "code",
      "source": [
        "# Dizimizin tanımlanması\n",
        "arr = np.array([[10, 20], [30, 40], [50, 60]])\n",
        "\n",
        "for i in arr:\n",
        "  for value in i:\n",
        "    print(value)"
      ],
      "metadata": {
        "colab": {
          "base_uri": "https://localhost:8080/"
        },
        "id": "YBs47DVc-vRx",
        "outputId": "799848fe-30dd-4e6a-9886-bc5d419ef9fa"
      },
      "execution_count": null,
      "outputs": [
        {
          "output_type": "stream",
          "name": "stdout",
          "text": [
            "10\n",
            "20\n",
            "30\n",
            "40\n",
            "50\n",
            "60\n"
          ]
        }
      ]
    },
    {
      "cell_type": "markdown",
      "source": [
        "Döngülerin dışında bir diziyi ekrana basmak için np.nditer methodunu kullanabiliriz."
      ],
      "metadata": {
        "id": "7P_x0XFW94ss"
      }
    },
    {
      "cell_type": "code",
      "source": [
        "# Dizimizin tanımlanması\n",
        "arr = np.array([[10, 20], [30, 40], [50, 60]])\n",
        "\n",
        "for i in np.nditer(arr):\n",
        "  print(i)"
      ],
      "metadata": {
        "colab": {
          "base_uri": "https://localhost:8080/"
        },
        "id": "dqzYtZlD-Ne6",
        "outputId": "87ac89f7-bc9a-44da-da2b-d34f8253cd8e"
      },
      "execution_count": null,
      "outputs": [
        {
          "output_type": "stream",
          "name": "stdout",
          "text": [
            "10\n",
            "20\n",
            "30\n",
            "40\n",
            "50\n",
            "60\n"
          ]
        }
      ]
    },
    {
      "cell_type": "markdown",
      "source": [
        "### **Dizileri birleştirme (concatenate)**"
      ],
      "metadata": {
        "id": "ojqF0Dp0_DpR"
      }
    },
    {
      "cell_type": "markdown",
      "source": [
        "İki tane bir boyutlu dizinin birleştirilme işlemi;"
      ],
      "metadata": {
        "id": "EzjD6KB8_54n"
      }
    },
    {
      "cell_type": "code",
      "source": [
        "# Birinci dizinin tanımlanması.\n",
        "arr1 = np.array([1,2,3,4,5])\n",
        "\n",
        "# İkinci dizinin tanımlanması\n",
        "arr2 = np.array([10, 20, 30, 40, 50])\n",
        "\n",
        "# Birleştirilen dizilerin yeni bir değişkene atanması\n",
        "concat_arr = np.concatenate((arr1, arr2))\n",
        "\n",
        "print(concat_arr)"
      ],
      "metadata": {
        "colab": {
          "base_uri": "https://localhost:8080/"
        },
        "id": "I4Rrlvns_HVZ",
        "outputId": "a78f0f2e-381d-49fc-dc8f-4efe668b757f"
      },
      "execution_count": null,
      "outputs": [
        {
          "output_type": "stream",
          "name": "stdout",
          "text": [
            "[ 1  2  3  4  5 10 20 30 40 50]\n"
          ]
        }
      ]
    },
    {
      "cell_type": "markdown",
      "source": [
        "İki tane iki boyutlu dizinin birleştirilme işlemi (axis=1);"
      ],
      "metadata": {
        "id": "8o0-eA8S_-R_"
      }
    },
    {
      "cell_type": "code",
      "source": [
        "# Birinci dizinin tanımlanması\n",
        "arr1 = np.array([[1, 2], [3, 4]])\n",
        "\n",
        "# İkinci dizinin tanımlanması\n",
        "arr2 = np.array([[10, 20], [30, 40]])\n",
        "\n",
        "# Birleştirilen dizilerin yeni bir değişkene atanması\n",
        "concat_arr = np.concatenate((arr1, arr2), axis = 1)\n",
        "\n",
        "print(concat_arr)"
      ],
      "metadata": {
        "colab": {
          "base_uri": "https://localhost:8080/"
        },
        "id": "uGRuVQWX_sG7",
        "outputId": "a5835228-3cc8-46f4-b8af-85bfdc0eabde"
      },
      "execution_count": null,
      "outputs": [
        {
          "output_type": "stream",
          "name": "stdout",
          "text": [
            "[[ 1  2 10 20]\n",
            " [ 3  4 30 40]]\n"
          ]
        }
      ]
    },
    {
      "cell_type": "markdown",
      "source": [
        "### **Dizileri bölmek (Split)**\n",
        "\n",
        "Bir diziyi bölmek istediğimizde array_split methodunu kullanabiliriz."
      ],
      "metadata": {
        "id": "ZsOQ_eh8BJo8"
      }
    },
    {
      "cell_type": "markdown",
      "source": [
        "Bir boyutlu diziyi bölmek;"
      ],
      "metadata": {
        "id": "PYSYCismBpld"
      }
    },
    {
      "cell_type": "code",
      "source": [
        "# Dizinin tanımlanması\n",
        "arr = np.array([10, 20, 30, 40, 50, 60])\n",
        "\n",
        "# Diziyi parçalara bölüp değişkene atanma işlemi\n",
        "split_arr = np.array_split(arr, 2)\n",
        "\n",
        "print(split_arr)"
      ],
      "metadata": {
        "colab": {
          "base_uri": "https://localhost:8080/"
        },
        "id": "odxM5B7qAaID",
        "outputId": "a2753aad-5e0f-4cef-8620-1979d50d23c6"
      },
      "execution_count": null,
      "outputs": [
        {
          "output_type": "stream",
          "name": "stdout",
          "text": [
            "[array([10, 20, 30]), array([40, 50, 60])]\n"
          ]
        }
      ]
    },
    {
      "cell_type": "code",
      "source": [
        "# Dizinin tanımlanması\n",
        "arr = np.array([10, 20, 30, 40, 50, 60])\n",
        "\n",
        "# Diziyi parçalara bölüp değişkene atanma işlemi\n",
        "split_arr = np.array_split(arr, 3)\n",
        "\n",
        "print(split_arr)"
      ],
      "metadata": {
        "colab": {
          "base_uri": "https://localhost:8080/"
        },
        "id": "lBTIxU_FCKuh",
        "outputId": "6da627d6-bb43-43b6-8802-c610e008bc46"
      },
      "execution_count": null,
      "outputs": [
        {
          "output_type": "stream",
          "name": "stdout",
          "text": [
            "[array([10, 20]), array([30, 40]), array([50, 60])]\n"
          ]
        }
      ]
    },
    {
      "cell_type": "markdown",
      "source": [
        "İki boyutlu diziyi bölmek;"
      ],
      "metadata": {
        "id": "T9kayDL1CP07"
      }
    },
    {
      "cell_type": "code",
      "source": [
        "# iki boyutlu dizinin tanımlanması\n",
        "arr = np.array([[1, 2], [3, 4], [5, 6], [7, 8], [9, 10], [11, 12]])\n",
        "\n",
        "# Diziyi parçalara bölüp değişkene atanma işlemi\n",
        "split_arr = np.array_split(arr, 2)\n",
        "\n",
        "print(split_arr)"
      ],
      "metadata": {
        "colab": {
          "base_uri": "https://localhost:8080/"
        },
        "id": "w4TfM0oJCR__",
        "outputId": "7d8976e1-24de-4e22-dc68-47f7e659daa6"
      },
      "execution_count": null,
      "outputs": [
        {
          "output_type": "stream",
          "name": "stdout",
          "text": [
            "[array([[1, 2],\n",
            "       [3, 4],\n",
            "       [5, 6]]), array([[ 7,  8],\n",
            "       [ 9, 10],\n",
            "       [11, 12]])]\n"
          ]
        }
      ]
    },
    {
      "cell_type": "code",
      "source": [
        "# iki boyutlu dizinin tanımlanması\n",
        "arr = np.array([[1, 2], [3, 4], [5, 6], [7, 8], [9, 10], [11, 12]])\n",
        "\n",
        "# Diziyi parçalara bölüp değişkene atanma işlemi\n",
        "split_arr = np.array_split(arr, 3)\n",
        "\n",
        "print(split_arr)"
      ],
      "metadata": {
        "colab": {
          "base_uri": "https://localhost:8080/"
        },
        "id": "y40jLNC4Ckz7",
        "outputId": "1acdaf6b-ef53-4948-bdc0-f91f29f4d487"
      },
      "execution_count": null,
      "outputs": [
        {
          "output_type": "stream",
          "name": "stdout",
          "text": [
            "[array([[1, 2],\n",
            "       [3, 4]]), array([[5, 6],\n",
            "       [7, 8]]), array([[ 9, 10],\n",
            "       [11, 12]])]\n"
          ]
        }
      ]
    },
    {
      "cell_type": "markdown",
      "source": [
        "### **Dizileri sıralama (Sorting)**\n",
        "\n",
        "Dizimizi sıralamak istersek sort methodu kullanabiliriz"
      ],
      "metadata": {
        "id": "_6MoMlkCC87u"
      }
    },
    {
      "cell_type": "markdown",
      "source": [
        "Bir boyutlu diziyi sıralamak;"
      ],
      "metadata": {
        "id": "MNuCjg-ZDK0i"
      }
    },
    {
      "cell_type": "code",
      "source": [
        "# Dizinin tanımlanması\n",
        "arr = np.array([300, 20, 500, 1, 100])\n",
        "\n",
        "# Sıralanan dizinin değişkene atanma işlemi\n",
        "sorted_array = np.sort(arr)\n",
        "\n",
        "print(sorted_array)"
      ],
      "metadata": {
        "colab": {
          "base_uri": "https://localhost:8080/"
        },
        "id": "hdiGAcxpC8ns",
        "outputId": "52cb6312-5147-489e-cfb3-cac4629206f0"
      },
      "execution_count": null,
      "outputs": [
        {
          "output_type": "stream",
          "name": "stdout",
          "text": [
            "[  1  20 100 300 500]\n"
          ]
        }
      ]
    },
    {
      "cell_type": "markdown",
      "source": [
        "İki boyutlu diziyi sıralamak;"
      ],
      "metadata": {
        "id": "ngw8HYSKDphV"
      }
    },
    {
      "cell_type": "code",
      "source": [
        "# Dizinin tanımlanması\n",
        "arr = np.array([[30, 10, 20], [60, 40, 50]])\n",
        "\n",
        "# Sıralanan dizinin değişkene atanma işlemi\n",
        "sorted_array = np.sort(arr)\n",
        "\n",
        "print(sorted_array)"
      ],
      "metadata": {
        "colab": {
          "base_uri": "https://localhost:8080/"
        },
        "id": "6AQZkqX8Drbm",
        "outputId": "1e380212-e522-4e08-e7b4-a0bb3ca389cd"
      },
      "execution_count": null,
      "outputs": [
        {
          "output_type": "stream",
          "name": "stdout",
          "text": [
            "[[10 20 30]\n",
            " [40 50 60]]\n"
          ]
        }
      ]
    },
    {
      "cell_type": "markdown",
      "source": [
        "### **Fancy indexing**\n",
        "\n",
        "Dizi öğelerimizi kolayca filtrelememize yarar. "
      ],
      "metadata": {
        "id": "BpiNGHZGEfGz"
      }
    },
    {
      "cell_type": "code",
      "source": [
        "# Dizinin tanımlanması\n",
        "arr = np.array([10, 20, 30, 40, 50])\n",
        "\n",
        "# Filtreleme ile dizinin bazı elemanlarını değişkene atma\n",
        "filtered_arr = arr[arr > 30]\n",
        "\n",
        "print(filtered_arr)"
      ],
      "metadata": {
        "colab": {
          "base_uri": "https://localhost:8080/"
        },
        "id": "kCrcGWOVE2gL",
        "outputId": "7dd3eaeb-14fe-47c5-d1c5-110571cce027"
      },
      "execution_count": null,
      "outputs": [
        {
          "output_type": "stream",
          "name": "stdout",
          "text": [
            "[40 50]\n"
          ]
        }
      ]
    },
    {
      "cell_type": "markdown",
      "source": [
        "*fancy indexing ile dizimize şunu dedik 30 değerinden büyük değerleri bizlere getir*"
      ],
      "metadata": {
        "id": "_rn95_CMFZL2"
      }
    },
    {
      "cell_type": "code",
      "source": [
        "# Dizinin tanımlanması\n",
        "arr = np.array([10, 11, 12, 13, 14, 15])\n",
        "\n",
        "# Sadece çift sayıları aldığımız değişkenin tanımlanması\n",
        "even_arr = arr[arr % 2 == 0]\n",
        "\n",
        "print(even_arr)"
      ],
      "metadata": {
        "colab": {
          "base_uri": "https://localhost:8080/"
        },
        "id": "-volT3rvFk_g",
        "outputId": "ae7ca90d-102a-41bf-d902-5af0441601cd"
      },
      "execution_count": null,
      "outputs": [
        {
          "output_type": "stream",
          "name": "stdout",
          "text": [
            "[10 12 14]\n"
          ]
        }
      ]
    },
    {
      "cell_type": "markdown",
      "source": [
        "*fancy indexing ile dizimizdeki çift sayıları alma işlemi*"
      ],
      "metadata": {
        "id": "Kcyc9qY0F7Ej"
      }
    },
    {
      "cell_type": "markdown",
      "source": [
        "### **Rastgele dizi oluşturma**\n",
        "\n",
        "*   Rastgele tam sayılardan oluşan bir dizi oluşturmak istersek np.random.randint methodunu kullanabiliriz.\n",
        "*   Rastgele rasyonel sayılar (float) oluşturmak istersek np.random.rand methodunu kullanabiliriz.\n"
      ],
      "metadata": {
        "id": "eNXcZkNoGDE7"
      }
    },
    {
      "cell_type": "markdown",
      "source": [
        "Bir boyutlu rastgele tam sayı dizisi oluşturmak;"
      ],
      "metadata": {
        "id": "TqGnNMhjGJUw"
      }
    },
    {
      "cell_type": "code",
      "source": [
        "# Dizimizin tanımlanması\n",
        "arr = np.random.randint(20, size=(5))\n",
        "\n",
        "print(arr)"
      ],
      "metadata": {
        "colab": {
          "base_uri": "https://localhost:8080/"
        },
        "id": "bZBUG7OEGxcO",
        "outputId": "98266cf5-cc23-4edd-ac71-f11bc6b6cd9c"
      },
      "execution_count": null,
      "outputs": [
        {
          "output_type": "stream",
          "name": "stdout",
          "text": [
            "[ 1  9 10  0 10]\n"
          ]
        }
      ]
    },
    {
      "cell_type": "markdown",
      "source": [
        "*Oluşturduğumuz rastgele dizimizde np.random.randint methodunun ilk parametresi 0'dan 20'ye kadar olan sayılar arasından rastgele seçmeyi, ikinci parametresi ile dizimizin büyüklüğünü belirtir.*"
      ],
      "metadata": {
        "id": "4GT1JHG5HAUN"
      }
    },
    {
      "cell_type": "markdown",
      "source": [
        "İki boyutlu rastgele tam sayı dizisi oluşturmak;"
      ],
      "metadata": {
        "id": "SOLArkAeHfHC"
      }
    },
    {
      "cell_type": "code",
      "source": [
        "# Dizimizin tanımlanması\n",
        "arr = np.random.randint(100, size=(2,5))\n",
        "\n",
        "print(arr)"
      ],
      "metadata": {
        "colab": {
          "base_uri": "https://localhost:8080/"
        },
        "id": "ECFwwQpnHQVM",
        "outputId": "6f7806cf-1eba-474a-dd54-d3514e4c93fb"
      },
      "execution_count": null,
      "outputs": [
        {
          "output_type": "stream",
          "name": "stdout",
          "text": [
            "[[34 40 89 19  8]\n",
            " [51 43 78 26 27]]\n"
          ]
        }
      ]
    },
    {
      "cell_type": "markdown",
      "source": [
        "*Oluşturmuş olduğumuz dizimizde np.random.randint methodunun ilk parametresi 0'dan 100'e kadar rastgele değerler seçer, ikinci parametresinde ilk değer boyutunu ikinci değer ise eleman sayısını belirtir.*"
      ],
      "metadata": {
        "id": "V-c7jXxvHu7Q"
      }
    },
    {
      "cell_type": "markdown",
      "source": [
        "### **Aritmetik işlemler**\n",
        "\n",
        "*   Toplama işlemi için **add** methodunu kullanabiliriz.\n",
        "*   Çıkarma işlemi için **subract** methodunu kullanabiliriz.\n",
        "*   Çarpma işlemi için **multiply** methodunu kullanabiliriz.\n",
        "*   Bölme işlemi için **divide** methodunu kullanabiliriz.\n",
        "*   Üs alma işlemi için **power** methodunu kullanabiliriz.\n",
        "*   Kalan alma işlemi için **remainder** methodunu kullanabiliriz.\n",
        "*   Mod alma işlemi için **mod** methodunu kullanabiliriz.\n",
        "*   Mutlak değer işlemi için **absolute** methodunu kullanabiliriz."
      ],
      "metadata": {
        "id": "Tq6qxD7jIYBZ"
      }
    },
    {
      "cell_type": "markdown",
      "source": [
        "#### **Toplama (add)**"
      ],
      "metadata": {
        "id": "KcQxd9CUIs9T"
      }
    },
    {
      "cell_type": "code",
      "source": [
        "# Birinci dizimizin tanımlanması\n",
        "arr1 = np.array([10, 20, 30, 40, 50])\n",
        "\n",
        "# İkinci dizimizin tanımlanması\n",
        "arr2 = np.array([1, 2, 3, 4, 5])\n",
        "\n",
        "add_arr = np.add(arr1, arr2)\n",
        "\n",
        "print(add_arr)"
      ],
      "metadata": {
        "colab": {
          "base_uri": "https://localhost:8080/"
        },
        "id": "LGTGeBuvI6ia",
        "outputId": "1648d3f8-0dee-43d5-da6c-ee5f3e98e81c"
      },
      "execution_count": null,
      "outputs": [
        {
          "output_type": "stream",
          "name": "stdout",
          "text": [
            "[11 22 33 44 55]\n"
          ]
        }
      ]
    },
    {
      "cell_type": "markdown",
      "source": [
        "*Birinci dizimiz ile ikinci dizimizin elemanları sıralı bir şekilde toplama işlemini yaptık.*"
      ],
      "metadata": {
        "id": "88pyLZ-zKyLG"
      }
    },
    {
      "cell_type": "markdown",
      "source": [
        "#### **Çıkarma (subtract)**"
      ],
      "metadata": {
        "id": "RbFFia8nK5rD"
      }
    },
    {
      "cell_type": "code",
      "source": [
        "# Birinci dizimizin tanımlanması\n",
        "arr1 = np.array([10, 20, 30, 40, 50])\n",
        "\n",
        "# İkinci dizimizin tanımlanması\n",
        "arr2 = np.array([1, 2, 3, 4, 5])\n",
        "\n",
        "sub_arr = np.subtract(arr1, arr2)\n",
        "\n",
        "print(sub_arr)"
      ],
      "metadata": {
        "colab": {
          "base_uri": "https://localhost:8080/"
        },
        "id": "uzG5HOyXK33m",
        "outputId": "051569f4-a7d3-4a2d-d98b-c169cb797fd1"
      },
      "execution_count": null,
      "outputs": [
        {
          "output_type": "stream",
          "name": "stdout",
          "text": [
            "[ 9 18 27 36 45]\n"
          ]
        }
      ]
    },
    {
      "cell_type": "markdown",
      "source": [
        "*Birinci dizimizden ikinci dizimizi çıkartma işlemini sıralı bir şekilde uyguladık.*"
      ],
      "metadata": {
        "id": "-4SzudZQLJ6x"
      }
    },
    {
      "cell_type": "markdown",
      "source": [
        "#### **Çarpma (multiply)**"
      ],
      "metadata": {
        "id": "X2IbCD_8LSY7"
      }
    },
    {
      "cell_type": "code",
      "source": [
        "# Birinci dizimizin tanımlanması\n",
        "arr1 = np.array([10, 20, 30, 40, 50])\n",
        "\n",
        "# İkinci dizimizin tanımlanması\n",
        "arr2 = np.array([1, 2, 3, 4, 5])\n",
        "\n",
        "multiply_arr = np.multiply(arr1, arr2)\n",
        "\n",
        "print(multiply_arr)"
      ],
      "metadata": {
        "colab": {
          "base_uri": "https://localhost:8080/"
        },
        "id": "2fLy8mD8LVdT",
        "outputId": "52f97dcf-1885-4f9f-a300-357b29c1254a"
      },
      "execution_count": null,
      "outputs": [
        {
          "output_type": "stream",
          "name": "stdout",
          "text": [
            "[ 10  40  90 160 250]\n"
          ]
        }
      ]
    },
    {
      "cell_type": "markdown",
      "source": [
        "*Birinci dizimiz ile ikinci dizimizi sıralı olarak çarpma işlemini uyguladık.*"
      ],
      "metadata": {
        "id": "SCctyR-KLZB4"
      }
    },
    {
      "cell_type": "markdown",
      "source": [
        "#### **Bölme (divide)**"
      ],
      "metadata": {
        "id": "EOIYWKK7LfDu"
      }
    },
    {
      "cell_type": "code",
      "source": [
        "# Birinci dizimizin tanımlanması\n",
        "arr1 = np.array([11, 21, 31, 41, 51])\n",
        "\n",
        "# İkinci dizimizin tanımlanması\n",
        "arr2 = np.array([1, 2, 3, 4, 5])\n",
        "\n",
        "divide_arr = np.divide(arr1, arr2)\n",
        "\n",
        "print(divide_arr)"
      ],
      "metadata": {
        "colab": {
          "base_uri": "https://localhost:8080/"
        },
        "id": "Klhg4RI7Lh2B",
        "outputId": "2e83bced-8b74-4231-fd62-f3763b047e5a"
      },
      "execution_count": null,
      "outputs": [
        {
          "output_type": "stream",
          "name": "stdout",
          "text": [
            "[11.         10.5        10.33333333 10.25       10.2       ]\n"
          ]
        }
      ]
    },
    {
      "cell_type": "markdown",
      "source": [
        "*Birinci dizimizi ikinci dizimize böldük ve elde ettiğimiz dizi rasyonel sayılardan (float) oluşan bir dizi oldu.*"
      ],
      "metadata": {
        "id": "Gdt5QOn7LoJB"
      }
    },
    {
      "cell_type": "markdown",
      "source": [
        "#### **Üs alma (power)**"
      ],
      "metadata": {
        "id": "JdbPy53aMFJJ"
      }
    },
    {
      "cell_type": "code",
      "source": [
        "# Birinci dizimizin tanımlanması\n",
        "arr1 = np.array([11, 21, 31, 41, 51])\n",
        "\n",
        "# İkinci dizimizin tanımlanması\n",
        "arr2 = np.array([1, 2, 3, 4, 5])\n",
        "\n",
        "power_arr = np.power(arr1, arr2)\n",
        "\n",
        "print(power_arr)"
      ],
      "metadata": {
        "colab": {
          "base_uri": "https://localhost:8080/"
        },
        "id": "LpVc1AbnMKQr",
        "outputId": "b7e9fd05-65b8-4b04-a1bf-09dfa123aa29"
      },
      "execution_count": null,
      "outputs": [
        {
          "output_type": "stream",
          "name": "stdout",
          "text": [
            "[       11       441     29791   2825761 345025251]\n"
          ]
        }
      ]
    },
    {
      "cell_type": "markdown",
      "source": [
        "*Birinci dizimize ikinci dizimizde bulunan değerleri sırayla üs olarak aldık.*"
      ],
      "metadata": {
        "id": "lJQcSBvNMTkS"
      }
    },
    {
      "cell_type": "markdown",
      "source": [
        "#### **Kalan (remainder)**"
      ],
      "metadata": {
        "id": "rjzAaso2MbxC"
      }
    },
    {
      "cell_type": "code",
      "source": [
        "# Birinci dizimizin tanımlanması\n",
        "arr1 = np.array([11, 21, 34, 45, 57])\n",
        "\n",
        "# İkinci dizimizin tanımlanması\n",
        "arr2 = np.array([1, 2, 3, 4, 5])\n",
        "\n",
        "remainder_arr = np.remainder(arr1, arr2)\n",
        "\n",
        "print(remainder_arr)"
      ],
      "metadata": {
        "colab": {
          "base_uri": "https://localhost:8080/"
        },
        "id": "XDB1ZSoNMfe6",
        "outputId": "53c0a894-47c4-40d4-c28e-dcaae9fc46b2"
      },
      "execution_count": null,
      "outputs": [
        {
          "output_type": "stream",
          "name": "stdout",
          "text": [
            "[0 1 1 1 2]\n"
          ]
        }
      ]
    },
    {
      "cell_type": "markdown",
      "source": [
        "*Birinci dizimizin ikinci dizimize bölünmesinden kalanları alma işlemi yaptık.*"
      ],
      "metadata": {
        "id": "eDvxA2SkMmPe"
      }
    },
    {
      "cell_type": "markdown",
      "source": [
        "#### **Mod (mod)**"
      ],
      "metadata": {
        "id": "tNP5VLvFMx4J"
      }
    },
    {
      "cell_type": "code",
      "source": [
        "# Birinci dizimizin tanımlanması\n",
        "arr1 = np.array([11, 21, 34, 45, 57])\n",
        "\n",
        "# İkinci dizimizin tanımlanması\n",
        "arr2 = np.array([1, 2, 3, 4, 5])\n",
        "\n",
        "mod_arr = np.mod(arr1, arr2)\n",
        "\n",
        "print(mod_arr)"
      ],
      "metadata": {
        "colab": {
          "base_uri": "https://localhost:8080/"
        },
        "id": "aIDyAAVbM0mS",
        "outputId": "fdf8ea9e-073c-4e97-c34c-b1183af262f2"
      },
      "execution_count": null,
      "outputs": [
        {
          "output_type": "stream",
          "name": "stdout",
          "text": [
            "[0 1 1 1 2]\n"
          ]
        }
      ]
    },
    {
      "cell_type": "markdown",
      "source": [
        "*Birinci dizimizin ikinci dizimize bölünmesinden kalanları alma işlemi yaptık.*"
      ],
      "metadata": {
        "id": "aJGlhouUM8c-"
      }
    },
    {
      "cell_type": "markdown",
      "source": [
        "#### **Mutlak değer (absolute)**"
      ],
      "metadata": {
        "id": "ro2GTRZMNEQ6"
      }
    },
    {
      "cell_type": "code",
      "source": [
        "# Birinci dizimizin tanımlanması\n",
        "arr1 = np.array([-11, 21, -34, 45, -57])\n",
        "\n",
        "absolute_arr = np.absolute(arr1)\n",
        "\n",
        "print(absolute_arr)"
      ],
      "metadata": {
        "colab": {
          "base_uri": "https://localhost:8080/"
        },
        "id": "beunfm2MNL10",
        "outputId": "6260c39a-93a0-40c3-ee6f-6649f2d44bca"
      },
      "execution_count": null,
      "outputs": [
        {
          "output_type": "stream",
          "name": "stdout",
          "text": [
            "[11 21 34 45 57]\n"
          ]
        }
      ]
    },
    {
      "cell_type": "markdown",
      "source": [
        "*Dizimize mutlak değer işlemi uyguladık.*"
      ],
      "metadata": {
        "id": "QmA2dPWNNTDW"
      }
    },
    {
      "cell_type": "markdown",
      "source": [
        "### **Dizi içerisinde aritmetik işlemler**\n",
        "\n",
        "*   Toplama\n",
        "*   Fark\n",
        "*   Çarpım"
      ],
      "metadata": {
        "id": "W_nSAoRuNb8o"
      }
    },
    {
      "cell_type": "markdown",
      "source": [
        "#### **Toplama (Summations)**"
      ],
      "metadata": {
        "id": "2jALKdV7NnyJ"
      }
    },
    {
      "cell_type": "code",
      "source": [
        "# Dizimizin tanımlanması\n",
        "arr = np.array([10, 20, 30, 40, 50])\n",
        "\n",
        "# Dizimizin elemanlarının toplanıp yeni değişkene atılması\n",
        "summation_arr = np.sum(arr)\n",
        "\n",
        "print(summation_arr)"
      ],
      "metadata": {
        "colab": {
          "base_uri": "https://localhost:8080/"
        },
        "id": "eAec54QUNief",
        "outputId": "19747999-79b1-4f84-c8dd-69b83473d1b3"
      },
      "execution_count": null,
      "outputs": [
        {
          "output_type": "stream",
          "name": "stdout",
          "text": [
            "150\n"
          ]
        }
      ]
    },
    {
      "cell_type": "markdown",
      "source": [
        "Axis ile toplama;"
      ],
      "metadata": {
        "id": "_VMoFyNJOVyR"
      }
    },
    {
      "cell_type": "code",
      "source": [
        "# Birinci dizimizin tanımlanması\n",
        "arr1 = np.array([10, 20, 30, 40, 50])\n",
        "\n",
        "# İkinci dizimizin tanımlanması\n",
        "arr2 = np.array([1, 2, 3, 4, 5])\n",
        "\n",
        "# Toplanan değerleri yeni değişkene atılma işlemi\n",
        "summation_arr = np.sum([arr1, arr2], axis = 1)\n",
        "\n",
        "print(summation_arr)"
      ],
      "metadata": {
        "colab": {
          "base_uri": "https://localhost:8080/"
        },
        "id": "dn0e6W4dO0nv",
        "outputId": "552c7591-cbee-4484-9495-af46c538613a"
      },
      "execution_count": null,
      "outputs": [
        {
          "output_type": "stream",
          "name": "stdout",
          "text": [
            "[150  15]\n"
          ]
        }
      ]
    },
    {
      "cell_type": "markdown",
      "source": [
        "*Birinci dizimizin elemanlarını topladık ve ikinci dizimizin elemanlarını topladık böylece ayrı ayrı toplama işlemi yapmış olduk. Eğer axis değerine 0 atasaydık arr1 ile arr2 nin elemanlarının hepsini toplayacaktı yani çıktı 165 olacaktı.*"
      ],
      "metadata": {
        "id": "UES2RYkhPJAl"
      }
    },
    {
      "cell_type": "markdown",
      "source": [
        "#### **Fark (Differences)**"
      ],
      "metadata": {
        "id": "K2nRbwDxPXUE"
      }
    },
    {
      "cell_type": "code",
      "source": [
        "# Dizimizin tanımlanması\n",
        "arr = np.array([10, 22, 35, 49, 5])\n",
        "\n",
        "# Çıkarılan değerleri yeni değişkene atılma işlemi\n",
        "diff_arr = np.diff(arr)\n",
        "\n",
        "print(diff_arr)"
      ],
      "metadata": {
        "colab": {
          "base_uri": "https://localhost:8080/"
        },
        "id": "ndtrj5HJPfKI",
        "outputId": "bc878895-3bef-4242-fb13-6a3ebec55eb6"
      },
      "execution_count": null,
      "outputs": [
        {
          "output_type": "stream",
          "name": "stdout",
          "text": [
            "[ 12  13  14 -44]\n"
          ]
        }
      ]
    },
    {
      "cell_type": "markdown",
      "source": [
        "*Burada dizimizin elamanlarının bir önceki elemanlanla çıkarılma işlemini yapıyoruz yani şu şekilde:*\n",
        "22-10 = 12,\n",
        "35-22 = 13,\n",
        "49-35 = 14,\n",
        "5-49 = -44 "
      ],
      "metadata": {
        "id": "bUySZtKqQNEr"
      }
    },
    {
      "cell_type": "markdown",
      "source": [
        "#### **Çarpım (products)**"
      ],
      "metadata": {
        "id": "a3oAxNc5Q6jN"
      }
    },
    {
      "cell_type": "code",
      "source": [
        "# Dizimizin tanımlanması\n",
        "arr = np.array([1, 2, 3, 4])\n",
        "\n",
        "# Dizimizin elemanlarının çarpılıp değişkene atılma işlemi\n",
        "mult_arr = np.prod(arr)\n",
        "\n",
        "print(mult_arr)"
      ],
      "metadata": {
        "colab": {
          "base_uri": "https://localhost:8080/"
        },
        "id": "1J9MJe5yQ7ht",
        "outputId": "759aaf82-19a2-4681-fcc3-0f89e4053552"
      },
      "execution_count": null,
      "outputs": [
        {
          "output_type": "stream",
          "name": "stdout",
          "text": [
            "24\n"
          ]
        }
      ]
    },
    {
      "cell_type": "markdown",
      "source": [
        "*Dizimizdeki elemanların birbirleriyle çarpılma işlemini yaptık.*"
      ],
      "metadata": {
        "id": "_9fLcRdhROBr"
      }
    },
    {
      "cell_type": "markdown",
      "source": [
        "Axis ile çarpma;"
      ],
      "metadata": {
        "id": "plAJVM3HRS1E"
      }
    },
    {
      "cell_type": "code",
      "source": [
        "# Birinci dizimizin tanımlanması\n",
        "arr1 = np.array([1, 2, 3])\n",
        "\n",
        "# İkinci dizimizin tanımlanması\n",
        "arr2 = np.array([3, 4, 5])\n",
        "\n",
        "# Çarpılan değerlerin değişkene atılma işlemi\n",
        "mult_arr = np.prod([arr1, arr2], axis=1)\n",
        "\n",
        "print(mult_arr)"
      ],
      "metadata": {
        "colab": {
          "base_uri": "https://localhost:8080/"
        },
        "id": "NPxnwGfZRZxm",
        "outputId": "2e09d68d-4e30-439d-ca77-178dc3aa1a96"
      },
      "execution_count": null,
      "outputs": [
        {
          "output_type": "stream",
          "name": "stdout",
          "text": [
            "[ 6 60]\n"
          ]
        }
      ]
    }
  ]
}